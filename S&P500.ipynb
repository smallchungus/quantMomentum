{
 "cells": [
  {
   "cell_type": "code",
   "execution_count": 2,
   "metadata": {
    "ExecuteTime": {
     "end_time": "2023-05-09T22:55:24.826403Z",
     "start_time": "2023-05-09T22:55:24.803936Z"
    }
   },
   "outputs": [],
   "source": [
    "import numpy as np \n",
    "import pandas as pd\n",
    "import requests\n",
    "import xlsxwriter\n",
    "import math"
   ]
  },
  {
   "cell_type": "code",
   "execution_count": 3,
   "metadata": {
    "ExecuteTime": {
     "end_time": "2023-05-09T22:55:25.936237Z",
     "start_time": "2023-05-09T22:55:25.869966Z"
    }
   },
   "outputs": [
    {
     "data": {
      "text/plain": "    Ticker\n0        A\n1      AAL\n2      AAP\n3     AAPL\n4     ABBV\n..     ...\n500    YUM\n501    ZBH\n502   ZBRA\n503   ZION\n504    ZTS\n\n[505 rows x 1 columns]",
      "text/html": "<div>\n<style scoped>\n    .dataframe tbody tr th:only-of-type {\n        vertical-align: middle;\n    }\n\n    .dataframe tbody tr th {\n        vertical-align: top;\n    }\n\n    .dataframe thead th {\n        text-align: right;\n    }\n</style>\n<table border=\"1\" class=\"dataframe\">\n  <thead>\n    <tr style=\"text-align: right;\">\n      <th></th>\n      <th>Ticker</th>\n    </tr>\n  </thead>\n  <tbody>\n    <tr>\n      <th>0</th>\n      <td>A</td>\n    </tr>\n    <tr>\n      <th>1</th>\n      <td>AAL</td>\n    </tr>\n    <tr>\n      <th>2</th>\n      <td>AAP</td>\n    </tr>\n    <tr>\n      <th>3</th>\n      <td>AAPL</td>\n    </tr>\n    <tr>\n      <th>4</th>\n      <td>ABBV</td>\n    </tr>\n    <tr>\n      <th>...</th>\n      <td>...</td>\n    </tr>\n    <tr>\n      <th>500</th>\n      <td>YUM</td>\n    </tr>\n    <tr>\n      <th>501</th>\n      <td>ZBH</td>\n    </tr>\n    <tr>\n      <th>502</th>\n      <td>ZBRA</td>\n    </tr>\n    <tr>\n      <th>503</th>\n      <td>ZION</td>\n    </tr>\n    <tr>\n      <th>504</th>\n      <td>ZTS</td>\n    </tr>\n  </tbody>\n</table>\n<p>505 rows × 1 columns</p>\n</div>"
     },
     "execution_count": 3,
     "metadata": {},
     "output_type": "execute_result"
    }
   ],
   "source": [
    "stocks = pd.read_csv('sp_500_stocks.csv')\n",
    "stocks\n"
   ]
  },
  {
   "cell_type": "code",
   "execution_count": 4,
   "outputs": [
    {
     "name": "stdout",
     "output_type": "stream",
     "text": [
      "pk_9a92a8d1eab441dea7c7e8a25534e765\n"
     ]
    }
   ],
   "source": [
    "from sec import IEX_CLOUD_API_TOKEN\n",
    "print (IEX_CLOUD_API_TOKEN)\n"
   ],
   "metadata": {
    "collapsed": false,
    "ExecuteTime": {
     "end_time": "2023-05-09T22:55:26.890964Z",
     "start_time": "2023-05-09T22:55:26.867005Z"
    }
   }
  },
  {
   "cell_type": "code",
   "execution_count": 5,
   "outputs": [
    {
     "data": {
      "text/plain": "{'avgTotalVolume': 56490765,\n 'calculationPrice': 'iexlasttrade',\n 'change': -1.68,\n 'changePercent': -0.00968,\n 'close': None,\n 'closeSource': 'official',\n 'closeTime': None,\n 'companyName': 'Apple Inc',\n 'currency': 'USD',\n 'delayedPrice': None,\n 'delayedPriceTime': None,\n 'extendedChange': None,\n 'extendedChangePercent': None,\n 'extendedPrice': None,\n 'extendedPriceTime': None,\n 'high': None,\n 'highSource': None,\n 'highTime': None,\n 'iexAskPrice': 0,\n 'iexAskSize': 0,\n 'iexBidPrice': 0,\n 'iexBidSize': 0,\n 'iexClose': 171.82,\n 'iexCloseTime': 1683662399009,\n 'iexLastUpdated': 1683662399009,\n 'iexMarketPercent': 0.011343503446518409,\n 'iexOpen': 173.08,\n 'iexOpenTime': 1683639000004,\n 'iexRealtimePrice': 171.82,\n 'iexRealtimeSize': 1,\n 'iexVolume': 513868,\n 'lastTradeTime': 1683662399977,\n 'latestPrice': 171.82,\n 'latestSource': 'IEX Last Trade',\n 'latestTime': 'May 9, 2023',\n 'latestUpdate': 1683662399009,\n 'latestVolume': None,\n 'low': None,\n 'lowSource': None,\n 'lowTime': None,\n 'marketCap': 2702505577640,\n 'oddLotDelayedPrice': None,\n 'oddLotDelayedPriceTime': None,\n 'open': None,\n 'openTime': None,\n 'openSource': 'official',\n 'peRatio': 29.22,\n 'previousClose': 173.5,\n 'previousVolume': 55962793,\n 'primaryExchange': 'NASDAQ',\n 'symbol': 'AAPL',\n 'volume': None,\n 'week52High': 175.37,\n 'week52Low': 123.98,\n 'ytdChange': 0.32769346018982215,\n 'isUSMarketOpen': False}"
     },
     "execution_count": 5,
     "metadata": {},
     "output_type": "execute_result"
    }
   ],
   "source": [
    "symbol = 'AAPL'\n",
    "api_url = f'https://cloud.iexapis.com/stable/stock/{symbol}/quote?token={IEX_CLOUD_API_TOKEN}'\n",
    "data = requests.get(api_url).json()\n",
    "data"
   ],
   "metadata": {
    "collapsed": false,
    "ExecuteTime": {
     "end_time": "2023-05-09T22:55:30.140080Z",
     "start_time": "2023-05-09T22:55:29.848609Z"
    }
   }
  },
  {
   "cell_type": "markdown",
   "source": [],
   "metadata": {
    "collapsed": false
   }
  },
  {
   "cell_type": "code",
   "execution_count": 6,
   "outputs": [
    {
     "name": "stdout",
     "output_type": "stream",
     "text": [
      "171.82\n"
     ]
    },
    {
     "data": {
      "text/plain": "2702505577640"
     },
     "execution_count": 6,
     "metadata": {},
     "output_type": "execute_result"
    }
   ],
   "source": [
    "latest_price = data['iexRealtimePrice']\n",
    "market_cap = data['marketCap']\n",
    "print(latest_price)\n",
    "market_cap"
   ],
   "metadata": {
    "collapsed": false,
    "ExecuteTime": {
     "end_time": "2023-05-09T22:55:33.181782Z",
     "start_time": "2023-05-09T22:55:33.169918Z"
    }
   }
  },
  {
   "cell_type": "code",
   "execution_count": 7,
   "outputs": [
    {
     "data": {
      "text/plain": "Empty DataFrame\nColumns: [Ticker, Stock Price, Market Capitalization, Number Of Shares to Buy]\nIndex: []",
      "text/html": "<div>\n<style scoped>\n    .dataframe tbody tr th:only-of-type {\n        vertical-align: middle;\n    }\n\n    .dataframe tbody tr th {\n        vertical-align: top;\n    }\n\n    .dataframe thead th {\n        text-align: right;\n    }\n</style>\n<table border=\"1\" class=\"dataframe\">\n  <thead>\n    <tr style=\"text-align: right;\">\n      <th></th>\n      <th>Ticker</th>\n      <th>Stock Price</th>\n      <th>Market Capitalization</th>\n      <th>Number Of Shares to Buy</th>\n    </tr>\n  </thead>\n  <tbody>\n  </tbody>\n</table>\n</div>"
     },
     "execution_count": 7,
     "metadata": {},
     "output_type": "execute_result"
    }
   ],
   "source": [
    "my_columns = ['Ticker', 'Stock Price','Market Capitalization', 'Number Of Shares to Buy']\n",
    "final_dataframe = pd.DataFrame(columns = my_columns)\n",
    "final_dataframe"
   ],
   "metadata": {
    "collapsed": false,
    "ExecuteTime": {
     "end_time": "2023-05-09T22:55:34.368713Z",
     "start_time": "2023-05-09T22:55:34.331366Z"
    }
   }
  },
  {
   "cell_type": "code",
   "execution_count": 8,
   "outputs": [
    {
     "data": {
      "text/plain": "  Ticker  Stock Price Market Capitalization Number Of Shares to Buy\n0   AAPL       171.82         2702505577640                     N/A",
      "text/html": "<div>\n<style scoped>\n    .dataframe tbody tr th:only-of-type {\n        vertical-align: middle;\n    }\n\n    .dataframe tbody tr th {\n        vertical-align: top;\n    }\n\n    .dataframe thead th {\n        text-align: right;\n    }\n</style>\n<table border=\"1\" class=\"dataframe\">\n  <thead>\n    <tr style=\"text-align: right;\">\n      <th></th>\n      <th>Ticker</th>\n      <th>Stock Price</th>\n      <th>Market Capitalization</th>\n      <th>Number Of Shares to Buy</th>\n    </tr>\n  </thead>\n  <tbody>\n    <tr>\n      <th>0</th>\n      <td>AAPL</td>\n      <td>171.82</td>\n      <td>2702505577640</td>\n      <td>N/A</td>\n    </tr>\n  </tbody>\n</table>\n</div>"
     },
     "execution_count": 8,
     "metadata": {},
     "output_type": "execute_result"
    }
   ],
   "source": [
    "final_dataframe.append(\n",
    "    pd.Series(\n",
    "        [\n",
    "            symbol,\n",
    "            data['iexRealtimePrice'],\n",
    "            data['marketCap'],\n",
    "            'N/A'\n",
    "        ],\n",
    "    index = my_columns\n",
    "    ),\n",
    "ignore_index = True\n",
    ")"
   ],
   "metadata": {
    "collapsed": false,
    "ExecuteTime": {
     "end_time": "2023-05-09T22:55:36.063910Z",
     "start_time": "2023-05-09T22:55:36.024363Z"
    }
   }
  },
  {
   "cell_type": "code",
   "execution_count": 9,
   "outputs": [],
   "source": [
    "final_dataframe = pd.DataFrame(columns = my_columns)\n",
    "for stock in stocks['Ticker'][:200]:\n",
    "    api_url = f'https://cloud.iexapis.com/stable/stock/{stock}/quote?token={IEX_CLOUD_API_TOKEN}'\n",
    "    data = requests.get(api_url).json()\n",
    "    final_dataframe = final_dataframe.append(\n",
    "        pd.Series(\n",
    "            [\n",
    "                stock,\n",
    "                data['iexRealtimePrice'],\n",
    "                data['marketCap'],\n",
    "                'N/A'\n",
    "            ],\n",
    "        index = my_columns\n",
    "        ),\n",
    "        ignore_index = True\n",
    "        )\n"
   ],
   "metadata": {
    "collapsed": false,
    "ExecuteTime": {
     "end_time": "2023-05-09T22:56:24.541497Z",
     "start_time": "2023-05-09T22:55:37.398139Z"
    }
   }
  },
  {
   "cell_type": "code",
   "execution_count": 10,
   "outputs": [
    {
     "data": {
      "text/plain": "    Ticker Stock Price Market Capitalization Number Of Shares to Buy\n0        A      127.38           37657630980                     N/A\n1      AAL      14.465            9443656178                     N/A\n2      AAP       125.5            7440044991                     N/A\n3     AAPL      171.82         2702505577640                     N/A\n4     ABBV      146.81          259050653714                     N/A\n..     ...         ...                   ...                     ...\n195   FTNT      66.395           52058081258                     N/A\n196    FTV       64.54           22814577241                     N/A\n197     GD      211.27           57939678931                     N/A\n198     GE         101          109984962929                     N/A\n199   GILD       78.79           98278918366                     N/A\n\n[200 rows x 4 columns]",
      "text/html": "<div>\n<style scoped>\n    .dataframe tbody tr th:only-of-type {\n        vertical-align: middle;\n    }\n\n    .dataframe tbody tr th {\n        vertical-align: top;\n    }\n\n    .dataframe thead th {\n        text-align: right;\n    }\n</style>\n<table border=\"1\" class=\"dataframe\">\n  <thead>\n    <tr style=\"text-align: right;\">\n      <th></th>\n      <th>Ticker</th>\n      <th>Stock Price</th>\n      <th>Market Capitalization</th>\n      <th>Number Of Shares to Buy</th>\n    </tr>\n  </thead>\n  <tbody>\n    <tr>\n      <th>0</th>\n      <td>A</td>\n      <td>127.38</td>\n      <td>37657630980</td>\n      <td>N/A</td>\n    </tr>\n    <tr>\n      <th>1</th>\n      <td>AAL</td>\n      <td>14.465</td>\n      <td>9443656178</td>\n      <td>N/A</td>\n    </tr>\n    <tr>\n      <th>2</th>\n      <td>AAP</td>\n      <td>125.5</td>\n      <td>7440044991</td>\n      <td>N/A</td>\n    </tr>\n    <tr>\n      <th>3</th>\n      <td>AAPL</td>\n      <td>171.82</td>\n      <td>2702505577640</td>\n      <td>N/A</td>\n    </tr>\n    <tr>\n      <th>4</th>\n      <td>ABBV</td>\n      <td>146.81</td>\n      <td>259050653714</td>\n      <td>N/A</td>\n    </tr>\n    <tr>\n      <th>...</th>\n      <td>...</td>\n      <td>...</td>\n      <td>...</td>\n      <td>...</td>\n    </tr>\n    <tr>\n      <th>195</th>\n      <td>FTNT</td>\n      <td>66.395</td>\n      <td>52058081258</td>\n      <td>N/A</td>\n    </tr>\n    <tr>\n      <th>196</th>\n      <td>FTV</td>\n      <td>64.54</td>\n      <td>22814577241</td>\n      <td>N/A</td>\n    </tr>\n    <tr>\n      <th>197</th>\n      <td>GD</td>\n      <td>211.27</td>\n      <td>57939678931</td>\n      <td>N/A</td>\n    </tr>\n    <tr>\n      <th>198</th>\n      <td>GE</td>\n      <td>101</td>\n      <td>109984962929</td>\n      <td>N/A</td>\n    </tr>\n    <tr>\n      <th>199</th>\n      <td>GILD</td>\n      <td>78.79</td>\n      <td>98278918366</td>\n      <td>N/A</td>\n    </tr>\n  </tbody>\n</table>\n<p>200 rows × 4 columns</p>\n</div>"
     },
     "execution_count": 10,
     "metadata": {},
     "output_type": "execute_result"
    }
   ],
   "source": [
    "final_dataframe"
   ],
   "metadata": {
    "collapsed": false,
    "ExecuteTime": {
     "end_time": "2023-05-09T22:59:16.644161Z",
     "start_time": "2023-05-09T22:59:16.582466Z"
    }
   }
  },
  {
   "cell_type": "code",
   "execution_count": 11,
   "outputs": [],
   "source": [
    "# Function sourced from\n",
    "# https://stackoverflow.com/questions/312443/how-do-you-split-a-list-into-evenly-sized-chunks\n",
    "def chunks(lst, n):\n",
    "    \"\"\"Yield successive n-sized chunks from lst.\"\"\"\n",
    "    for i in range(0, len(lst), n):\n",
    "        yield lst[i:i + n]"
   ],
   "metadata": {
    "collapsed": false,
    "ExecuteTime": {
     "end_time": "2023-05-09T22:59:23.413578Z",
     "start_time": "2023-05-09T22:59:23.369787Z"
    }
   }
  },
  {
   "cell_type": "code",
   "execution_count": 13,
   "outputs": [
    {
     "data": {
      "text/plain": "   Ticker  Stock Price Market Capitalization Number Of Shares to Buy\n0       A      127.350           37657630980                     N/A\n1     AAL       14.465            9443656178                     N/A\n2     AAP      125.520            7440044991                     N/A\n3    AAPL      171.820         2702505577640                     N/A\n4    ABBV      146.830          259050653714                     N/A\n..    ...          ...                   ...                     ...\n95   CINF      105.510           16587512821                     N/A\n96     CL       80.640           66896379567                     N/A\n97    CLX      168.130           20784823090                     N/A\n98    CMA       36.290            4778299256                     N/A\n99  CMCSA       39.655          164940333381                     N/A\n\n[100 rows x 4 columns]",
      "text/html": "<div>\n<style scoped>\n    .dataframe tbody tr th:only-of-type {\n        vertical-align: middle;\n    }\n\n    .dataframe tbody tr th {\n        vertical-align: top;\n    }\n\n    .dataframe thead th {\n        text-align: right;\n    }\n</style>\n<table border=\"1\" class=\"dataframe\">\n  <thead>\n    <tr style=\"text-align: right;\">\n      <th></th>\n      <th>Ticker</th>\n      <th>Stock Price</th>\n      <th>Market Capitalization</th>\n      <th>Number Of Shares to Buy</th>\n    </tr>\n  </thead>\n  <tbody>\n    <tr>\n      <th>0</th>\n      <td>A</td>\n      <td>127.350</td>\n      <td>37657630980</td>\n      <td>N/A</td>\n    </tr>\n    <tr>\n      <th>1</th>\n      <td>AAL</td>\n      <td>14.465</td>\n      <td>9443656178</td>\n      <td>N/A</td>\n    </tr>\n    <tr>\n      <th>2</th>\n      <td>AAP</td>\n      <td>125.520</td>\n      <td>7440044991</td>\n      <td>N/A</td>\n    </tr>\n    <tr>\n      <th>3</th>\n      <td>AAPL</td>\n      <td>171.820</td>\n      <td>2702505577640</td>\n      <td>N/A</td>\n    </tr>\n    <tr>\n      <th>4</th>\n      <td>ABBV</td>\n      <td>146.830</td>\n      <td>259050653714</td>\n      <td>N/A</td>\n    </tr>\n    <tr>\n      <th>...</th>\n      <td>...</td>\n      <td>...</td>\n      <td>...</td>\n      <td>...</td>\n    </tr>\n    <tr>\n      <th>95</th>\n      <td>CINF</td>\n      <td>105.510</td>\n      <td>16587512821</td>\n      <td>N/A</td>\n    </tr>\n    <tr>\n      <th>96</th>\n      <td>CL</td>\n      <td>80.640</td>\n      <td>66896379567</td>\n      <td>N/A</td>\n    </tr>\n    <tr>\n      <th>97</th>\n      <td>CLX</td>\n      <td>168.130</td>\n      <td>20784823090</td>\n      <td>N/A</td>\n    </tr>\n    <tr>\n      <th>98</th>\n      <td>CMA</td>\n      <td>36.290</td>\n      <td>4778299256</td>\n      <td>N/A</td>\n    </tr>\n    <tr>\n      <th>99</th>\n      <td>CMCSA</td>\n      <td>39.655</td>\n      <td>164940333381</td>\n      <td>N/A</td>\n    </tr>\n  </tbody>\n</table>\n<p>100 rows × 4 columns</p>\n</div>"
     },
     "execution_count": 13,
     "metadata": {},
     "output_type": "execute_result"
    }
   ],
   "source": [
    "symbol_groups = list(chunks(stocks['Ticker'], 100))\n",
    "symbol_strings = []\n",
    "for i in range(0, len(symbol_groups)):\n",
    "    symbol_strings.append(','.join(symbol_groups[i]))\n",
    "#    print(symbol_strings[i])\n",
    "final_dataframe = pd.DataFrame(columns = my_columns)\n",
    "\n",
    "for symbol_string in symbol_strings[:1]:\n",
    "    batch_api_call_url = f'https://cloud.iexapis.com/stable/stock/market/batch?symbols={symbol_string}&types=quote&token={IEX_CLOUD_API_TOKEN}'\n",
    "    data = requests.get(batch_api_call_url).json()\n",
    "    for symbol in symbol_string.split(','):\n",
    "        final_dataframe = final_dataframe.append(\n",
    "            pd.Series(\n",
    "                [\n",
    "                    symbol,\n",
    "                    data[symbol]['quote']['latestPrice'],\n",
    "                    data[symbol]['quote']['marketCap'],\n",
    "                    'N/A'\n",
    "                ],\n",
    "            index = my_columns),\n",
    "                ignore_index =True,\n",
    "            )\n",
    "final_dataframe"
   ],
   "metadata": {
    "collapsed": false,
    "ExecuteTime": {
     "end_time": "2023-05-09T23:00:16.445686Z",
     "start_time": "2023-05-09T23:00:15.379680Z"
    }
   }
  },
  {
   "cell_type": "code",
   "execution_count": 19,
   "outputs": [
    {
     "name": "stdout",
     "output_type": "stream",
     "text": [
      "1000000.0\n"
     ]
    }
   ],
   "source": [
    "portfolio_size = input('Enter the value of your portfolio:')\n",
    "\n",
    "try:\n",
    "    val = float(portfolio_size)\n",
    "    print(val)\n",
    "except ValueError:\n",
    "    print(\"That's not a number! \\nPlease try again:\")\n",
    "    portfolio_size = input('Enter the value of yoru portfolio')\n",
    "    val = float(portfolio_size)\n"
   ],
   "metadata": {
    "collapsed": false,
    "ExecuteTime": {
     "end_time": "2023-05-09T23:11:21.829971Z",
     "start_time": "2023-05-09T23:11:17.015566Z"
    }
   }
  },
  {
   "cell_type": "code",
   "execution_count": 27,
   "outputs": [
    {
     "data": {
      "text/plain": "   Ticker  Stock Price Market Capitalization Number Of Shares to Buy\n0       A      127.350           37657630980                      78\n1     AAL       14.465            9443656178                     691\n2     AAP      125.520            7440044991                      79\n3    AAPL      171.820         2702505577640                      58\n4    ABBV      146.830          259050653714                      68\n..    ...          ...                   ...                     ...\n95   CINF      105.510           16587512821                      94\n96     CL       80.640           66896379567                     124\n97    CLX      168.130           20784823090                      59\n98    CMA       36.290            4778299256                     275\n99  CMCSA       39.655          164940333381                     N/A\n\n[100 rows x 4 columns]",
      "text/html": "<div>\n<style scoped>\n    .dataframe tbody tr th:only-of-type {\n        vertical-align: middle;\n    }\n\n    .dataframe tbody tr th {\n        vertical-align: top;\n    }\n\n    .dataframe thead th {\n        text-align: right;\n    }\n</style>\n<table border=\"1\" class=\"dataframe\">\n  <thead>\n    <tr style=\"text-align: right;\">\n      <th></th>\n      <th>Ticker</th>\n      <th>Stock Price</th>\n      <th>Market Capitalization</th>\n      <th>Number Of Shares to Buy</th>\n    </tr>\n  </thead>\n  <tbody>\n    <tr>\n      <th>0</th>\n      <td>A</td>\n      <td>127.350</td>\n      <td>37657630980</td>\n      <td>78</td>\n    </tr>\n    <tr>\n      <th>1</th>\n      <td>AAL</td>\n      <td>14.465</td>\n      <td>9443656178</td>\n      <td>691</td>\n    </tr>\n    <tr>\n      <th>2</th>\n      <td>AAP</td>\n      <td>125.520</td>\n      <td>7440044991</td>\n      <td>79</td>\n    </tr>\n    <tr>\n      <th>3</th>\n      <td>AAPL</td>\n      <td>171.820</td>\n      <td>2702505577640</td>\n      <td>58</td>\n    </tr>\n    <tr>\n      <th>4</th>\n      <td>ABBV</td>\n      <td>146.830</td>\n      <td>259050653714</td>\n      <td>68</td>\n    </tr>\n    <tr>\n      <th>...</th>\n      <td>...</td>\n      <td>...</td>\n      <td>...</td>\n      <td>...</td>\n    </tr>\n    <tr>\n      <th>95</th>\n      <td>CINF</td>\n      <td>105.510</td>\n      <td>16587512821</td>\n      <td>94</td>\n    </tr>\n    <tr>\n      <th>96</th>\n      <td>CL</td>\n      <td>80.640</td>\n      <td>66896379567</td>\n      <td>124</td>\n    </tr>\n    <tr>\n      <th>97</th>\n      <td>CLX</td>\n      <td>168.130</td>\n      <td>20784823090</td>\n      <td>59</td>\n    </tr>\n    <tr>\n      <th>98</th>\n      <td>CMA</td>\n      <td>36.290</td>\n      <td>4778299256</td>\n      <td>275</td>\n    </tr>\n    <tr>\n      <th>99</th>\n      <td>CMCSA</td>\n      <td>39.655</td>\n      <td>164940333381</td>\n      <td>N/A</td>\n    </tr>\n  </tbody>\n</table>\n<p>100 rows × 4 columns</p>\n</div>"
     },
     "execution_count": 27,
     "metadata": {},
     "output_type": "execute_result"
    }
   ],
   "source": [
    "position_size = float(portfolio_size) / len(final_dataframe.index)\n",
    "for i in range(0, len(final_dataframe['Ticker'])-1):\n",
    "    final_dataframe.loc[i, 'Number Of Shares to Buy'] = math.floor(position_size / final_dataframe['Stock Price'][i])\n",
    "final_dataframe"
   ],
   "metadata": {
    "collapsed": false,
    "ExecuteTime": {
     "end_time": "2023-05-09T23:34:48.668598Z",
     "start_time": "2023-05-09T23:34:48.663905Z"
    }
   }
  },
  {
   "cell_type": "code",
   "execution_count": 28,
   "outputs": [],
   "source": [
    "writer = pd.ExcelWriter('recommended_trades.xlsx', engine='xlsxwriter')\n",
    "final_dataframe.to_excel(writer, sheet_name='Recommended Trades', index = False)"
   ],
   "metadata": {
    "collapsed": false,
    "ExecuteTime": {
     "end_time": "2023-05-09T23:34:59.888427Z",
     "start_time": "2023-05-09T23:34:59.883829Z"
    }
   }
  },
  {
   "cell_type": "code",
   "execution_count": 29,
   "outputs": [],
   "source": [
    "background_color = '#0a0a23'\n",
    "font_color = '#ffffff'\n",
    "\n",
    "string_format = writer.book.add_format(\n",
    "        {\n",
    "            'font_color': font_color,\n",
    "            'bg_color': background_color,\n",
    "            'border': 1\n",
    "        }\n",
    "    )\n",
    "\n",
    "dollar_format = writer.book.add_format(\n",
    "        {\n",
    "            'num_format':'$0.00',\n",
    "            'font_color': font_color,\n",
    "            'bg_color': background_color,\n",
    "            'border': 1\n",
    "        }\n",
    "    )\n",
    "\n",
    "integer_format = writer.book.add_format(\n",
    "        {\n",
    "            'num_format':'0',\n",
    "            'font_color': font_color,\n",
    "            'bg_color': background_color,\n",
    "            'border': 1\n",
    "        }\n",
    "    )"
   ],
   "metadata": {
    "collapsed": false,
    "ExecuteTime": {
     "end_time": "2023-05-09T23:35:01.451647Z",
     "start_time": "2023-05-09T23:35:01.447003Z"
    }
   }
  },
  {
   "cell_type": "code",
   "execution_count": 34,
   "outputs": [
    {
     "data": {
      "text/plain": "0"
     },
     "execution_count": 34,
     "metadata": {},
     "output_type": "execute_result"
    }
   ],
   "source": [
    "writer.sheets['Recommended Trades'].write('A1', 'Ticker', string_format)\n",
    "writer.sheets['Recommended Trades'].write('B1', 'Stock Price', string_format)\n",
    "writer.sheets['Recommended Trades'].write('C1', 'Market Capitalization', string_format)\n",
    "writer.sheets['Recommended Trades'].write('D1', 'Number Of Shares to Buy', string_format)\n",
    "writer.sheets['Recommended Trades'].set_column('A:A', 20, string_format)\n",
    "writer.sheets['Recommended Trades'].set_column('B:B', 20, dollar_format)\n",
    "writer.sheets['Recommended Trades'].set_column('C:C', 20, dollar_format)\n",
    "writer.sheets['Recommended Trades'].set_column('D:D', 20, integer_format)"
   ],
   "metadata": {
    "collapsed": false,
    "ExecuteTime": {
     "end_time": "2023-05-09T23:43:31.459034Z",
     "start_time": "2023-05-09T23:43:31.443347Z"
    }
   }
  },
  {
   "cell_type": "code",
   "execution_count": null,
   "outputs": [],
   "source": [],
   "metadata": {
    "collapsed": false
   }
  }
 ],
 "metadata": {
  "kernelspec": {
   "display_name": "Python 3 (ipykernel)",
   "language": "python",
   "name": "python3"
  },
  "language_info": {
   "codemirror_mode": {
    "name": "ipython",
    "version": 3
   },
   "file_extension": ".py",
   "mimetype": "text/x-python",
   "name": "python",
   "nbconvert_exporter": "python",
   "pygments_lexer": "ipython3",
   "version": "3.9.6"
  }
 },
 "nbformat": 4,
 "nbformat_minor": 1
}

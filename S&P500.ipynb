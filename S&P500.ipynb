{
 "cells": [
  {
   "cell_type": "code",
   "execution_count": 1,
   "metadata": {
    "ExecuteTime": {
     "end_time": "2023-05-09T20:57:50.848672Z",
     "start_time": "2023-05-09T20:57:49.275061Z"
    }
   },
   "outputs": [],
   "source": [
    "import numpy as np \n",
    "import pandas as pd\n",
    "import requests\n",
    "import xlsxwriter\n",
    "import math"
   ]
  },
  {
   "cell_type": "code",
   "execution_count": 2,
   "metadata": {
    "ExecuteTime": {
     "end_time": "2023-05-09T20:57:53.745902Z",
     "start_time": "2023-05-09T20:57:53.702967Z"
    }
   },
   "outputs": [
    {
     "data": {
      "text/plain": "    Ticker\n0        A\n1      AAL\n2      AAP\n3     AAPL\n4     ABBV\n..     ...\n500    YUM\n501    ZBH\n502   ZBRA\n503   ZION\n504    ZTS\n\n[505 rows x 1 columns]",
      "text/html": "<div>\n<style scoped>\n    .dataframe tbody tr th:only-of-type {\n        vertical-align: middle;\n    }\n\n    .dataframe tbody tr th {\n        vertical-align: top;\n    }\n\n    .dataframe thead th {\n        text-align: right;\n    }\n</style>\n<table border=\"1\" class=\"dataframe\">\n  <thead>\n    <tr style=\"text-align: right;\">\n      <th></th>\n      <th>Ticker</th>\n    </tr>\n  </thead>\n  <tbody>\n    <tr>\n      <th>0</th>\n      <td>A</td>\n    </tr>\n    <tr>\n      <th>1</th>\n      <td>AAL</td>\n    </tr>\n    <tr>\n      <th>2</th>\n      <td>AAP</td>\n    </tr>\n    <tr>\n      <th>3</th>\n      <td>AAPL</td>\n    </tr>\n    <tr>\n      <th>4</th>\n      <td>ABBV</td>\n    </tr>\n    <tr>\n      <th>...</th>\n      <td>...</td>\n    </tr>\n    <tr>\n      <th>500</th>\n      <td>YUM</td>\n    </tr>\n    <tr>\n      <th>501</th>\n      <td>ZBH</td>\n    </tr>\n    <tr>\n      <th>502</th>\n      <td>ZBRA</td>\n    </tr>\n    <tr>\n      <th>503</th>\n      <td>ZION</td>\n    </tr>\n    <tr>\n      <th>504</th>\n      <td>ZTS</td>\n    </tr>\n  </tbody>\n</table>\n<p>505 rows × 1 columns</p>\n</div>"
     },
     "execution_count": 2,
     "metadata": {},
     "output_type": "execute_result"
    }
   ],
   "source": [
    "stocks = pd.read_csv('sp_500_stocks.csv')\n",
    "stocks\n"
   ]
  },
  {
   "cell_type": "code",
   "execution_count": 7,
   "outputs": [
    {
     "name": "stdout",
     "output_type": "stream",
     "text": [
      "pk_9a92a8d1eab441dea7c7e8a25534e765\n"
     ]
    }
   ],
   "source": [
    "from sec import IEX_CLOUD_API_TOKEN\n",
    "print (IEX_CLOUD_API_TOKEN)\n"
   ],
   "metadata": {
    "collapsed": false,
    "ExecuteTime": {
     "end_time": "2023-05-09T21:03:18.279285Z",
     "start_time": "2023-05-09T21:03:18.270030Z"
    }
   }
  },
  {
   "cell_type": "code",
   "execution_count": 11,
   "outputs": [
    {
     "data": {
      "text/plain": "{'avgTotalVolume': 56490765,\n 'calculationPrice': 'iexlasttrade',\n 'change': -1.68,\n 'changePercent': -0.00968,\n 'close': None,\n 'closeSource': 'official',\n 'closeTime': None,\n 'companyName': 'Apple Inc',\n 'currency': 'USD',\n 'delayedPrice': None,\n 'delayedPriceTime': None,\n 'extendedChange': None,\n 'extendedChangePercent': None,\n 'extendedPrice': None,\n 'extendedPriceTime': None,\n 'high': None,\n 'highSource': None,\n 'highTime': None,\n 'iexAskPrice': 0,\n 'iexAskSize': 0,\n 'iexBidPrice': 0,\n 'iexBidSize': 0,\n 'iexClose': 171.82,\n 'iexCloseTime': 1683662399009,\n 'iexLastUpdated': 1683662399009,\n 'iexMarketPercent': 0.011351060188553315,\n 'iexOpen': 173.08,\n 'iexOpenTime': 1683639000004,\n 'iexRealtimePrice': 171.82,\n 'iexRealtimeSize': 1,\n 'iexVolume': 513868,\n 'lastTradeTime': 1683662399977,\n 'latestPrice': 171.82,\n 'latestSource': 'IEX Last Trade',\n 'latestTime': 'May 9, 2023',\n 'latestUpdate': 1683662399009,\n 'latestVolume': None,\n 'low': None,\n 'lowSource': None,\n 'lowTime': None,\n 'marketCap': 2702505577640,\n 'oddLotDelayedPrice': None,\n 'oddLotDelayedPriceTime': None,\n 'open': None,\n 'openTime': None,\n 'openSource': 'official',\n 'peRatio': 29.22,\n 'previousClose': 173.5,\n 'previousVolume': 55962793,\n 'primaryExchange': 'NASDAQ',\n 'symbol': 'AAPL',\n 'volume': None,\n 'week52High': 175.37,\n 'week52Low': 123.98,\n 'ytdChange': 0.32769346018982215,\n 'isUSMarketOpen': False}"
     },
     "execution_count": 11,
     "metadata": {},
     "output_type": "execute_result"
    }
   ],
   "source": [
    "symbol = 'AAPL'\n",
    "api_url = f'https://cloud.iexapis.com/stable/stock/{symbol}/quote?token={IEX_CLOUD_API_TOKEN}'\n",
    "data = requests.get(api_url).json()\n",
    "data"
   ],
   "metadata": {
    "collapsed": false,
    "ExecuteTime": {
     "end_time": "2023-05-09T21:17:32.500150Z",
     "start_time": "2023-05-09T21:17:32.231563Z"
    }
   }
  },
  {
   "cell_type": "code",
   "execution_count": 12,
   "outputs": [
    {
     "data": {
      "text/plain": "2702505577640"
     },
     "execution_count": 12,
     "metadata": {},
     "output_type": "execute_result"
    }
   ],
   "source": [
    "data['latestPrice']\n",
    "data['marketCap']"
   ],
   "metadata": {
    "collapsed": false,
    "ExecuteTime": {
     "end_time": "2023-05-09T21:18:01.624239Z",
     "start_time": "2023-05-09T21:18:01.600739Z"
    }
   }
  },
  {
   "cell_type": "code",
   "execution_count": 13,
   "outputs": [
    {
     "data": {
      "text/plain": "Empty DataFrame\nColumns: [Ticker, Price, Market Capitalization, Number Of Shares to Buy]\nIndex: []",
      "text/html": "<div>\n<style scoped>\n    .dataframe tbody tr th:only-of-type {\n        vertical-align: middle;\n    }\n\n    .dataframe tbody tr th {\n        vertical-align: top;\n    }\n\n    .dataframe thead th {\n        text-align: right;\n    }\n</style>\n<table border=\"1\" class=\"dataframe\">\n  <thead>\n    <tr style=\"text-align: right;\">\n      <th></th>\n      <th>Ticker</th>\n      <th>Price</th>\n      <th>Market Capitalization</th>\n      <th>Number Of Shares to Buy</th>\n    </tr>\n  </thead>\n  <tbody>\n  </tbody>\n</table>\n</div>"
     },
     "execution_count": 13,
     "metadata": {},
     "output_type": "execute_result"
    }
   ],
   "source": [
    "my_columns = ['Ticker', 'Price','Market Capitalization', 'Number Of Shares to Buy']\n",
    "final_dataframe = pd.DataFrame(columns = my_columns)\n",
    "final_dataframe"
   ],
   "metadata": {
    "collapsed": false,
    "ExecuteTime": {
     "end_time": "2023-05-09T21:18:17.123094Z",
     "start_time": "2023-05-09T21:18:17.068427Z"
    }
   }
  },
  {
   "cell_type": "code",
   "execution_count": null,
   "outputs": [],
   "source": [],
   "metadata": {
    "collapsed": false
   }
  }
 ],
 "metadata": {
  "kernelspec": {
   "display_name": "Python 3 (ipykernel)",
   "language": "python",
   "name": "python3"
  },
  "language_info": {
   "codemirror_mode": {
    "name": "ipython",
    "version": 3
   },
   "file_extension": ".py",
   "mimetype": "text/x-python",
   "name": "python",
   "nbconvert_exporter": "python",
   "pygments_lexer": "ipython3",
   "version": "3.9.6"
  }
 },
 "nbformat": 4,
 "nbformat_minor": 1
}

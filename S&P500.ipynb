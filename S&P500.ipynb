{
 "cells": [
  {
   "cell_type": "code",
   "execution_count": 1,
   "metadata": {
    "ExecuteTime": {
     "end_time": "2023-05-09T22:21:22.396777Z",
     "start_time": "2023-05-09T22:21:19.772203Z"
    }
   },
   "outputs": [],
   "source": [
    "import numpy as np \n",
    "import pandas as pd\n",
    "import requests\n",
    "import xlsxwriter\n",
    "import math"
   ]
  },
  {
   "cell_type": "code",
   "execution_count": 2,
   "metadata": {
    "ExecuteTime": {
     "end_time": "2023-05-09T22:22:41.722829Z",
     "start_time": "2023-05-09T22:22:41.602871Z"
    }
   },
   "outputs": [
    {
     "data": {
      "text/plain": "    Ticker\n0        A\n1      AAL\n2      AAP\n3     AAPL\n4     ABBV\n..     ...\n500    YUM\n501    ZBH\n502   ZBRA\n503   ZION\n504    ZTS\n\n[505 rows x 1 columns]",
      "text/html": "<div>\n<style scoped>\n    .dataframe tbody tr th:only-of-type {\n        vertical-align: middle;\n    }\n\n    .dataframe tbody tr th {\n        vertical-align: top;\n    }\n\n    .dataframe thead th {\n        text-align: right;\n    }\n</style>\n<table border=\"1\" class=\"dataframe\">\n  <thead>\n    <tr style=\"text-align: right;\">\n      <th></th>\n      <th>Ticker</th>\n    </tr>\n  </thead>\n  <tbody>\n    <tr>\n      <th>0</th>\n      <td>A</td>\n    </tr>\n    <tr>\n      <th>1</th>\n      <td>AAL</td>\n    </tr>\n    <tr>\n      <th>2</th>\n      <td>AAP</td>\n    </tr>\n    <tr>\n      <th>3</th>\n      <td>AAPL</td>\n    </tr>\n    <tr>\n      <th>4</th>\n      <td>ABBV</td>\n    </tr>\n    <tr>\n      <th>...</th>\n      <td>...</td>\n    </tr>\n    <tr>\n      <th>500</th>\n      <td>YUM</td>\n    </tr>\n    <tr>\n      <th>501</th>\n      <td>ZBH</td>\n    </tr>\n    <tr>\n      <th>502</th>\n      <td>ZBRA</td>\n    </tr>\n    <tr>\n      <th>503</th>\n      <td>ZION</td>\n    </tr>\n    <tr>\n      <th>504</th>\n      <td>ZTS</td>\n    </tr>\n  </tbody>\n</table>\n<p>505 rows × 1 columns</p>\n</div>"
     },
     "execution_count": 2,
     "metadata": {},
     "output_type": "execute_result"
    }
   ],
   "source": [
    "stocks = pd.read_csv('sp_500_stocks.csv')\n",
    "stocks\n"
   ]
  },
  {
   "cell_type": "code",
   "execution_count": 3,
   "outputs": [
    {
     "name": "stdout",
     "output_type": "stream",
     "text": [
      "pk_9a92a8d1eab441dea7c7e8a25534e765\n"
     ]
    }
   ],
   "source": [
    "from sec import IEX_CLOUD_API_TOKEN\n",
    "print (IEX_CLOUD_API_TOKEN)\n"
   ],
   "metadata": {
    "collapsed": false,
    "ExecuteTime": {
     "end_time": "2023-05-09T22:22:44.180793Z",
     "start_time": "2023-05-09T22:22:44.170367Z"
    }
   }
  },
  {
   "cell_type": "code",
   "execution_count": 4,
   "outputs": [
    {
     "data": {
      "text/plain": "{'avgTotalVolume': 56490765,\n 'calculationPrice': 'iexlasttrade',\n 'change': -1.68,\n 'changePercent': -0.00968,\n 'close': None,\n 'closeSource': 'official',\n 'closeTime': None,\n 'companyName': 'Apple Inc',\n 'currency': 'USD',\n 'delayedPrice': None,\n 'delayedPriceTime': None,\n 'extendedChange': None,\n 'extendedChangePercent': None,\n 'extendedPrice': None,\n 'extendedPriceTime': None,\n 'high': None,\n 'highSource': None,\n 'highTime': None,\n 'iexAskPrice': 0,\n 'iexAskSize': 0,\n 'iexBidPrice': 0,\n 'iexBidSize': 0,\n 'iexClose': 171.82,\n 'iexCloseTime': 1683662399009,\n 'iexLastUpdated': 1683662399009,\n 'iexMarketPercent': 0.011346889931603736,\n 'iexOpen': 173.08,\n 'iexOpenTime': 1683639000004,\n 'iexRealtimePrice': 171.82,\n 'iexRealtimeSize': 1,\n 'iexVolume': 513868,\n 'lastTradeTime': 1683662399977,\n 'latestPrice': 171.82,\n 'latestSource': 'IEX Last Trade',\n 'latestTime': 'May 9, 2023',\n 'latestUpdate': 1683662399009,\n 'latestVolume': None,\n 'low': None,\n 'lowSource': None,\n 'lowTime': None,\n 'marketCap': 2702505577640,\n 'oddLotDelayedPrice': None,\n 'oddLotDelayedPriceTime': None,\n 'open': None,\n 'openTime': None,\n 'openSource': 'official',\n 'peRatio': 29.22,\n 'previousClose': 173.5,\n 'previousVolume': 55962793,\n 'primaryExchange': 'NASDAQ',\n 'symbol': 'AAPL',\n 'volume': None,\n 'week52High': 175.37,\n 'week52Low': 123.98,\n 'ytdChange': 0.32769346018982215,\n 'isUSMarketOpen': False}"
     },
     "execution_count": 4,
     "metadata": {},
     "output_type": "execute_result"
    }
   ],
   "source": [
    "symbol = 'AAPL'\n",
    "api_url = f'https://cloud.iexapis.com/stable/stock/{symbol}/quote?token={IEX_CLOUD_API_TOKEN}'\n",
    "data = requests.get(api_url).json()\n",
    "data"
   ],
   "metadata": {
    "collapsed": false,
    "ExecuteTime": {
     "end_time": "2023-05-09T22:22:45.472874Z",
     "start_time": "2023-05-09T22:22:45.203321Z"
    }
   }
  },
  {
   "cell_type": "markdown",
   "source": [],
   "metadata": {
    "collapsed": false
   }
  },
  {
   "cell_type": "code",
   "execution_count": 5,
   "outputs": [
    {
     "name": "stdout",
     "output_type": "stream",
     "text": [
      "171.82\n"
     ]
    },
    {
     "data": {
      "text/plain": "2702505577640"
     },
     "execution_count": 5,
     "metadata": {},
     "output_type": "execute_result"
    }
   ],
   "source": [
    "latest_price = data['iexRealtimePrice']\n",
    "market_cap = data['marketCap']\n",
    "print(latest_price)\n",
    "market_cap"
   ],
   "metadata": {
    "collapsed": false,
    "ExecuteTime": {
     "end_time": "2023-05-09T22:22:49.435995Z",
     "start_time": "2023-05-09T22:22:49.425294Z"
    }
   }
  },
  {
   "cell_type": "code",
   "execution_count": 6,
   "outputs": [
    {
     "data": {
      "text/plain": "Empty DataFrame\nColumns: [Ticker, Stock Price, Market Capitalization, Number Of Shares to Buy]\nIndex: []",
      "text/html": "<div>\n<style scoped>\n    .dataframe tbody tr th:only-of-type {\n        vertical-align: middle;\n    }\n\n    .dataframe tbody tr th {\n        vertical-align: top;\n    }\n\n    .dataframe thead th {\n        text-align: right;\n    }\n</style>\n<table border=\"1\" class=\"dataframe\">\n  <thead>\n    <tr style=\"text-align: right;\">\n      <th></th>\n      <th>Ticker</th>\n      <th>Stock Price</th>\n      <th>Market Capitalization</th>\n      <th>Number Of Shares to Buy</th>\n    </tr>\n  </thead>\n  <tbody>\n  </tbody>\n</table>\n</div>"
     },
     "execution_count": 6,
     "metadata": {},
     "output_type": "execute_result"
    }
   ],
   "source": [
    "my_columns = ['Ticker', 'Stock Price','Market Capitalization', 'Number Of Shares to Buy']\n",
    "final_dataframe = pd.DataFrame(columns = my_columns)\n",
    "final_dataframe"
   ],
   "metadata": {
    "collapsed": false,
    "ExecuteTime": {
     "end_time": "2023-05-09T22:22:50.691578Z",
     "start_time": "2023-05-09T22:22:50.683601Z"
    }
   }
  },
  {
   "cell_type": "code",
   "execution_count": 7,
   "outputs": [
    {
     "data": {
      "text/plain": "  Ticker  Stock Price Market Capitalization Number Of Shares to Buy\n0   AAPL       171.82         2702505577640                     N/A",
      "text/html": "<div>\n<style scoped>\n    .dataframe tbody tr th:only-of-type {\n        vertical-align: middle;\n    }\n\n    .dataframe tbody tr th {\n        vertical-align: top;\n    }\n\n    .dataframe thead th {\n        text-align: right;\n    }\n</style>\n<table border=\"1\" class=\"dataframe\">\n  <thead>\n    <tr style=\"text-align: right;\">\n      <th></th>\n      <th>Ticker</th>\n      <th>Stock Price</th>\n      <th>Market Capitalization</th>\n      <th>Number Of Shares to Buy</th>\n    </tr>\n  </thead>\n  <tbody>\n    <tr>\n      <th>0</th>\n      <td>AAPL</td>\n      <td>171.82</td>\n      <td>2702505577640</td>\n      <td>N/A</td>\n    </tr>\n  </tbody>\n</table>\n</div>"
     },
     "execution_count": 7,
     "metadata": {},
     "output_type": "execute_result"
    }
   ],
   "source": [
    "final_dataframe.append(\n",
    "    pd.Series(\n",
    "        [\n",
    "            symbol,\n",
    "            data['iexRealtimePrice'],\n",
    "            data['marketCap'],\n",
    "            'N/A'\n",
    "        ],\n",
    "    index = my_columns\n",
    "    ),\n",
    "ignore_index = True\n",
    ")"
   ],
   "metadata": {
    "collapsed": false,
    "ExecuteTime": {
     "end_time": "2023-05-09T22:22:52.759261Z",
     "start_time": "2023-05-09T22:22:52.747575Z"
    }
   }
  },
  {
   "cell_type": "code",
   "execution_count": 10,
   "outputs": [],
   "source": [
    "final_dataframe = pd.DataFrame(columns = my_columns)\n",
    "for stock in stocks['Ticker'][:50]:\n",
    "    api_url = f'https://cloud.iexapis.com/stable/stock/{stock}/quote?token={IEX_CLOUD_API_TOKEN}'\n",
    "    data = requests.get(api_url).json()\n",
    "    final_dataframe = final_dataframe.append(\n",
    "        pd.Series(\n",
    "            [\n",
    "                stock,\n",
    "                data['iexRealtimePrice'],\n",
    "                data['marketCap'],\n",
    "                'N/A'\n",
    "            ],\n",
    "        index = my_columns\n",
    "        ),\n",
    "        ignore_index = True\n",
    "        )\n"
   ],
   "metadata": {
    "collapsed": false,
    "ExecuteTime": {
     "end_time": "2023-05-09T22:23:32.124089Z",
     "start_time": "2023-05-09T22:23:18.735087Z"
    }
   }
  },
  {
   "cell_type": "code",
   "execution_count": 11,
   "outputs": [
    {
     "data": {
      "text/plain": "   Ticker Stock Price Market Capitalization Number Of Shares to Buy\n0       A      127.38           37657630980                     N/A\n1     AAL      14.465            9443656178                     N/A\n2     AAP       125.5            7440044991                     N/A\n3    AAPL      171.82         2702505577640                     N/A\n4    ABBV      146.81          259050653714                     N/A\n5     ABC      168.32           34064905173                     N/A\n6    ABMD        None           17180642928                     N/A\n7     ABT      110.25          191718884590                     N/A\n8     ACN      263.45          174580708976                     N/A\n9    ADBE      342.76          157224012000                     N/A\n10    ADI      179.59           90845960680                     N/A\n11    ADM       75.04           40858503971                     N/A\n12    ADP      213.65           88263677460                     N/A\n13   ADSK       192.9           41431640700                     N/A\n14    AEE       88.83           23330225492                     N/A\n15    AEP       91.13           93657231923                     N/A\n16    AES      22.275           14906106395                     N/A\n17    AFL       67.44           40736984003                     N/A\n18    AIG      53.085           38431258387                     N/A\n19    AIV        8.49            1261751682                     N/A\n20    AIZ      130.54            6939999581                     N/A\n21    AJG      216.18           46169463334                     N/A\n22   AKAM       78.92           12334076046                     N/A\n23    ALB      195.06           22900553190                     N/A\n24   ALGN      302.78           23167802424                     N/A\n25    ALK       43.89            5615291012                     N/A\n26    ALL     118.385           31126923774                     N/A\n27   ALLE      107.85            9485048899                     N/A\n28   ALXN        None           40336009475                     N/A\n29   AMAT      113.85           96216732914                     N/A\n30   AMCR      10.315           15170585588                     N/A\n31    AMD       95.07          153097102981                     N/A\n32    AME     144.465           33282921321                     N/A\n33   AMGN     234.465          125280884862                     N/A\n34    AMP      293.54           30575431903                     N/A\n35    AMT      193.56           90188686644                     N/A\n36   AMZN      106.64         1094164117288                     N/A\n37   ANET     138.535           42703333317                     N/A\n38   ANSS      293.73           25455034811                     N/A\n39   ANTM        None          116342693132                     N/A\n40    AON      330.86           68405907884                     N/A\n41    AOS       69.34           10590399532                     N/A\n42    APA       33.16           10233147184                     N/A\n43    APD      279.94           62169873309                     N/A\n44    APH      75.185           44762039069                     N/A\n45   APTV       93.38           25257182381                     N/A\n46    ARE      121.29           20974441516                     N/A\n47    ATO      118.47           17121745761                     N/A\n48   ATVI       75.53           59238179000                     N/A\n49    AVB      179.29           25463272874                     N/A",
      "text/html": "<div>\n<style scoped>\n    .dataframe tbody tr th:only-of-type {\n        vertical-align: middle;\n    }\n\n    .dataframe tbody tr th {\n        vertical-align: top;\n    }\n\n    .dataframe thead th {\n        text-align: right;\n    }\n</style>\n<table border=\"1\" class=\"dataframe\">\n  <thead>\n    <tr style=\"text-align: right;\">\n      <th></th>\n      <th>Ticker</th>\n      <th>Stock Price</th>\n      <th>Market Capitalization</th>\n      <th>Number Of Shares to Buy</th>\n    </tr>\n  </thead>\n  <tbody>\n    <tr>\n      <th>0</th>\n      <td>A</td>\n      <td>127.38</td>\n      <td>37657630980</td>\n      <td>N/A</td>\n    </tr>\n    <tr>\n      <th>1</th>\n      <td>AAL</td>\n      <td>14.465</td>\n      <td>9443656178</td>\n      <td>N/A</td>\n    </tr>\n    <tr>\n      <th>2</th>\n      <td>AAP</td>\n      <td>125.5</td>\n      <td>7440044991</td>\n      <td>N/A</td>\n    </tr>\n    <tr>\n      <th>3</th>\n      <td>AAPL</td>\n      <td>171.82</td>\n      <td>2702505577640</td>\n      <td>N/A</td>\n    </tr>\n    <tr>\n      <th>4</th>\n      <td>ABBV</td>\n      <td>146.81</td>\n      <td>259050653714</td>\n      <td>N/A</td>\n    </tr>\n    <tr>\n      <th>5</th>\n      <td>ABC</td>\n      <td>168.32</td>\n      <td>34064905173</td>\n      <td>N/A</td>\n    </tr>\n    <tr>\n      <th>6</th>\n      <td>ABMD</td>\n      <td>None</td>\n      <td>17180642928</td>\n      <td>N/A</td>\n    </tr>\n    <tr>\n      <th>7</th>\n      <td>ABT</td>\n      <td>110.25</td>\n      <td>191718884590</td>\n      <td>N/A</td>\n    </tr>\n    <tr>\n      <th>8</th>\n      <td>ACN</td>\n      <td>263.45</td>\n      <td>174580708976</td>\n      <td>N/A</td>\n    </tr>\n    <tr>\n      <th>9</th>\n      <td>ADBE</td>\n      <td>342.76</td>\n      <td>157224012000</td>\n      <td>N/A</td>\n    </tr>\n    <tr>\n      <th>10</th>\n      <td>ADI</td>\n      <td>179.59</td>\n      <td>90845960680</td>\n      <td>N/A</td>\n    </tr>\n    <tr>\n      <th>11</th>\n      <td>ADM</td>\n      <td>75.04</td>\n      <td>40858503971</td>\n      <td>N/A</td>\n    </tr>\n    <tr>\n      <th>12</th>\n      <td>ADP</td>\n      <td>213.65</td>\n      <td>88263677460</td>\n      <td>N/A</td>\n    </tr>\n    <tr>\n      <th>13</th>\n      <td>ADSK</td>\n      <td>192.9</td>\n      <td>41431640700</td>\n      <td>N/A</td>\n    </tr>\n    <tr>\n      <th>14</th>\n      <td>AEE</td>\n      <td>88.83</td>\n      <td>23330225492</td>\n      <td>N/A</td>\n    </tr>\n    <tr>\n      <th>15</th>\n      <td>AEP</td>\n      <td>91.13</td>\n      <td>93657231923</td>\n      <td>N/A</td>\n    </tr>\n    <tr>\n      <th>16</th>\n      <td>AES</td>\n      <td>22.275</td>\n      <td>14906106395</td>\n      <td>N/A</td>\n    </tr>\n    <tr>\n      <th>17</th>\n      <td>AFL</td>\n      <td>67.44</td>\n      <td>40736984003</td>\n      <td>N/A</td>\n    </tr>\n    <tr>\n      <th>18</th>\n      <td>AIG</td>\n      <td>53.085</td>\n      <td>38431258387</td>\n      <td>N/A</td>\n    </tr>\n    <tr>\n      <th>19</th>\n      <td>AIV</td>\n      <td>8.49</td>\n      <td>1261751682</td>\n      <td>N/A</td>\n    </tr>\n    <tr>\n      <th>20</th>\n      <td>AIZ</td>\n      <td>130.54</td>\n      <td>6939999581</td>\n      <td>N/A</td>\n    </tr>\n    <tr>\n      <th>21</th>\n      <td>AJG</td>\n      <td>216.18</td>\n      <td>46169463334</td>\n      <td>N/A</td>\n    </tr>\n    <tr>\n      <th>22</th>\n      <td>AKAM</td>\n      <td>78.92</td>\n      <td>12334076046</td>\n      <td>N/A</td>\n    </tr>\n    <tr>\n      <th>23</th>\n      <td>ALB</td>\n      <td>195.06</td>\n      <td>22900553190</td>\n      <td>N/A</td>\n    </tr>\n    <tr>\n      <th>24</th>\n      <td>ALGN</td>\n      <td>302.78</td>\n      <td>23167802424</td>\n      <td>N/A</td>\n    </tr>\n    <tr>\n      <th>25</th>\n      <td>ALK</td>\n      <td>43.89</td>\n      <td>5615291012</td>\n      <td>N/A</td>\n    </tr>\n    <tr>\n      <th>26</th>\n      <td>ALL</td>\n      <td>118.385</td>\n      <td>31126923774</td>\n      <td>N/A</td>\n    </tr>\n    <tr>\n      <th>27</th>\n      <td>ALLE</td>\n      <td>107.85</td>\n      <td>9485048899</td>\n      <td>N/A</td>\n    </tr>\n    <tr>\n      <th>28</th>\n      <td>ALXN</td>\n      <td>None</td>\n      <td>40336009475</td>\n      <td>N/A</td>\n    </tr>\n    <tr>\n      <th>29</th>\n      <td>AMAT</td>\n      <td>113.85</td>\n      <td>96216732914</td>\n      <td>N/A</td>\n    </tr>\n    <tr>\n      <th>30</th>\n      <td>AMCR</td>\n      <td>10.315</td>\n      <td>15170585588</td>\n      <td>N/A</td>\n    </tr>\n    <tr>\n      <th>31</th>\n      <td>AMD</td>\n      <td>95.07</td>\n      <td>153097102981</td>\n      <td>N/A</td>\n    </tr>\n    <tr>\n      <th>32</th>\n      <td>AME</td>\n      <td>144.465</td>\n      <td>33282921321</td>\n      <td>N/A</td>\n    </tr>\n    <tr>\n      <th>33</th>\n      <td>AMGN</td>\n      <td>234.465</td>\n      <td>125280884862</td>\n      <td>N/A</td>\n    </tr>\n    <tr>\n      <th>34</th>\n      <td>AMP</td>\n      <td>293.54</td>\n      <td>30575431903</td>\n      <td>N/A</td>\n    </tr>\n    <tr>\n      <th>35</th>\n      <td>AMT</td>\n      <td>193.56</td>\n      <td>90188686644</td>\n      <td>N/A</td>\n    </tr>\n    <tr>\n      <th>36</th>\n      <td>AMZN</td>\n      <td>106.64</td>\n      <td>1094164117288</td>\n      <td>N/A</td>\n    </tr>\n    <tr>\n      <th>37</th>\n      <td>ANET</td>\n      <td>138.535</td>\n      <td>42703333317</td>\n      <td>N/A</td>\n    </tr>\n    <tr>\n      <th>38</th>\n      <td>ANSS</td>\n      <td>293.73</td>\n      <td>25455034811</td>\n      <td>N/A</td>\n    </tr>\n    <tr>\n      <th>39</th>\n      <td>ANTM</td>\n      <td>None</td>\n      <td>116342693132</td>\n      <td>N/A</td>\n    </tr>\n    <tr>\n      <th>40</th>\n      <td>AON</td>\n      <td>330.86</td>\n      <td>68405907884</td>\n      <td>N/A</td>\n    </tr>\n    <tr>\n      <th>41</th>\n      <td>AOS</td>\n      <td>69.34</td>\n      <td>10590399532</td>\n      <td>N/A</td>\n    </tr>\n    <tr>\n      <th>42</th>\n      <td>APA</td>\n      <td>33.16</td>\n      <td>10233147184</td>\n      <td>N/A</td>\n    </tr>\n    <tr>\n      <th>43</th>\n      <td>APD</td>\n      <td>279.94</td>\n      <td>62169873309</td>\n      <td>N/A</td>\n    </tr>\n    <tr>\n      <th>44</th>\n      <td>APH</td>\n      <td>75.185</td>\n      <td>44762039069</td>\n      <td>N/A</td>\n    </tr>\n    <tr>\n      <th>45</th>\n      <td>APTV</td>\n      <td>93.38</td>\n      <td>25257182381</td>\n      <td>N/A</td>\n    </tr>\n    <tr>\n      <th>46</th>\n      <td>ARE</td>\n      <td>121.29</td>\n      <td>20974441516</td>\n      <td>N/A</td>\n    </tr>\n    <tr>\n      <th>47</th>\n      <td>ATO</td>\n      <td>118.47</td>\n      <td>17121745761</td>\n      <td>N/A</td>\n    </tr>\n    <tr>\n      <th>48</th>\n      <td>ATVI</td>\n      <td>75.53</td>\n      <td>59238179000</td>\n      <td>N/A</td>\n    </tr>\n    <tr>\n      <th>49</th>\n      <td>AVB</td>\n      <td>179.29</td>\n      <td>25463272874</td>\n      <td>N/A</td>\n    </tr>\n  </tbody>\n</table>\n</div>"
     },
     "execution_count": 11,
     "metadata": {},
     "output_type": "execute_result"
    }
   ],
   "source": [
    "final_dataframe"
   ],
   "metadata": {
    "collapsed": false,
    "ExecuteTime": {
     "end_time": "2023-05-09T22:23:36.106689Z",
     "start_time": "2023-05-09T22:23:36.085134Z"
    }
   }
  },
  {
   "cell_type": "code",
   "execution_count": 12,
   "outputs": [],
   "source": [
    "# Function sourced from\n",
    "# https://stackoverflow.com/questions/312443/how-do-you-split-a-list-into-evenly-sized-chunks\n",
    "def chunks(lst, n):\n",
    "    \"\"\"Yield successive n-sized chunks from lst.\"\"\"\n",
    "    for i in range(0, len(lst), n):\n",
    "        yield lst[i:i + n]"
   ],
   "metadata": {
    "collapsed": false,
    "ExecuteTime": {
     "end_time": "2023-05-09T22:24:00.596260Z",
     "start_time": "2023-05-09T22:24:00.572513Z"
    }
   }
  },
  {
   "cell_type": "code",
   "execution_count": 19,
   "outputs": [
    {
     "name": "stdout",
     "output_type": "stream",
     "text": [
      "A\n",
      "AAL\n",
      "AAP\n",
      "AAPL\n",
      "ABBV\n",
      "ABC\n",
      "ABMD\n",
      "ABT\n",
      "ACN\n",
      "ADBE\n",
      "ADI\n",
      "ADM\n",
      "ADP\n",
      "ADSK\n",
      "AEE\n",
      "AEP\n",
      "AES\n",
      "AFL\n",
      "AIG\n",
      "AIV\n",
      "AIZ\n",
      "AJG\n",
      "AKAM\n",
      "ALB\n",
      "ALGN\n",
      "ALK\n",
      "ALL\n",
      "ALLE\n",
      "ALXN\n",
      "AMAT\n",
      "AMCR\n",
      "AMD\n",
      "AME\n",
      "AMGN\n",
      "AMP\n",
      "AMT\n",
      "AMZN\n",
      "ANET\n",
      "ANSS\n",
      "ANTM\n",
      "AON\n",
      "AOS\n",
      "APA\n",
      "APD\n",
      "APH\n",
      "APTV\n",
      "ARE\n",
      "ATO\n",
      "ATVI\n",
      "AVB\n",
      "AVGO\n",
      "AVY\n",
      "AWK\n",
      "AXP\n",
      "AZO\n",
      "BA\n",
      "BAC\n",
      "BAX\n",
      "BBY\n",
      "BDX\n",
      "BEN\n",
      "BF.B\n",
      "BIIB\n",
      "BIO\n",
      "BK\n",
      "BKNG\n",
      "BKR\n",
      "BLK\n",
      "BLL\n",
      "BMY\n",
      "BR\n",
      "BRK.B\n",
      "BSX\n",
      "BWA\n",
      "BXP\n",
      "C\n",
      "CAG\n",
      "CAH\n",
      "CARR\n",
      "CAT\n",
      "CB\n",
      "CBOE\n",
      "CBRE\n",
      "CCI\n",
      "CCL\n",
      "CDNS\n",
      "CDW\n",
      "CE\n",
      "CERN\n",
      "CF\n",
      "CFG\n",
      "CHD\n",
      "CHRW\n",
      "CHTR\n",
      "CI\n",
      "CINF\n",
      "CL\n",
      "CLX\n",
      "CMA\n",
      "CMCSA\n"
     ]
    }
   ],
   "source": [
    "symbol_groups = list(chunks(stocks['Ticker'], 100))\n",
    "symbol_strings = []\n",
    "for i in range(0, len(symbol_groups)):\n",
    "    symbol_strings.append(','.join(symbol_groups[i]))\n",
    "#    print(symbol_strings[i])\n",
    "final_dataframe = pd.DataFrame(columns = my_columns)\n",
    "\n",
    "for symbol_string in symbol_strings[:1]:\n",
    "    batch_api_call_url = f'https://cloud.iexapis.com/stable/stock/market/batch?symbols={symbol_string}&types=quote&token={IEX_CLOUD_API_TOKEN}'\n",
    "    data = requests.get(batch_api_call_url).json()\n",
    "    for symbol in symbol_string.split(','):\n",
    "        print(symbol)"
   ],
   "metadata": {
    "collapsed": false,
    "ExecuteTime": {
     "end_time": "2023-05-09T22:36:50.331674Z",
     "start_time": "2023-05-09T22:36:49.967670Z"
    }
   }
  },
  {
   "cell_type": "code",
   "execution_count": null,
   "outputs": [],
   "source": [],
   "metadata": {
    "collapsed": false
   }
  }
 ],
 "metadata": {
  "kernelspec": {
   "display_name": "Python 3 (ipykernel)",
   "language": "python",
   "name": "python3"
  },
  "language_info": {
   "codemirror_mode": {
    "name": "ipython",
    "version": 3
   },
   "file_extension": ".py",
   "mimetype": "text/x-python",
   "name": "python",
   "nbconvert_exporter": "python",
   "pygments_lexer": "ipython3",
   "version": "3.9.6"
  }
 },
 "nbformat": 4,
 "nbformat_minor": 1
}
